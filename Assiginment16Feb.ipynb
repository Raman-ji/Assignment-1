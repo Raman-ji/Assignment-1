{
 "cells": [
  {
   "cell_type": "code",
   "execution_count": 1,
   "id": "5ebac584-34da-403f-9e82-569f84559eda",
   "metadata": {},
   "outputs": [
    {
     "data": {
      "text/plain": [
       "'Q1. What is a database? Differentiate between SQL and NoSQL databases.\\nAnswer:-A large amount of data which is stored in computer and can be easily use to do some manipualtion in database.\\nDifference between sql and No sql:-\\nSql:- \\n1.Databases are categorized as Relational Database Management System \\n2.These databases have fixed or static or predefined schema\\n3.These databases are not suited for hierarchical data storage.\\nNo sql:-\\n1.NoSQL databases are categorized as Non-relational or distributed database system\\n2. They have dynamic schema\\n3.These databases are best suited for hierarchical data storage.'"
      ]
     },
     "execution_count": 1,
     "metadata": {},
     "output_type": "execute_result"
    }
   ],
   "source": [
    "\"\"\"Q1. What is a database? Differentiate between SQL and NoSQL databases.\n",
    "Answer:-A large amount of data which is stored in computer and can be easily use to do some manipualtion in database.\n",
    "Difference between sql and No sql:-\n",
    "Sql:- \n",
    "1.Databases are categorized as Relational Database Management System \n",
    "2.These databases have fixed or static or predefined schema\n",
    "3.These databases are not suited for hierarchical data storage.\n",
    "No sql:-\n",
    "1.NoSQL databases are categorized as Non-relational or distributed database system\n",
    "2. They have dynamic schema\n",
    "3.These databases are best suited for hierarchical data storage.\"\"\""
   ]
  },
  {
   "cell_type": "code",
   "execution_count": 2,
   "id": "9a664be4-0f0f-447b-83b2-e172425f0e43",
   "metadata": {},
   "outputs": [
    {
     "data": {
      "text/plain": [
       "'Q2. What is DDL? Explain why CREATE, DROP, ALTER, and TRUNCATE are used with an example.\\nAnswer:- DDL stands for data definition language. It changes the structure of the table like creating a table, deleting a table, altering a table, etc\\nCreate:- It is used to create a new table in the database\\nDrop:-It is used to delete both the structure and record stored in the table.\\nAlter:-It is used to alter the structure of the database. This change could be either to modify the characteristics of an existing attribute or probably to add a new attribute.\\nTruncate:-It is used to delete all the rows from the table and free the space containing the table.'"
      ]
     },
     "execution_count": 2,
     "metadata": {},
     "output_type": "execute_result"
    }
   ],
   "source": [
    "\"\"\"Q2. What is DDL? Explain why CREATE, DROP, ALTER, and TRUNCATE are used with an example.\n",
    "Answer:- DDL stands for data definition language. It changes the structure of the table like creating a table, deleting a table, altering a table, etc\n",
    "Create:- It is used to create a new table in the database\n",
    "Drop:-It is used to delete both the structure and record stored in the table.\n",
    "Alter:-It is used to alter the structure of the database. This change could be either to modify the characteristics of an existing attribute or probably to add a new attribute.\n",
    "Truncate:-It is used to delete all the rows from the table and free the space containing the table.\"\"\""
   ]
  },
  {
   "cell_type": "code",
   "execution_count": 3,
   "id": "d856bb1f-18cf-44c8-8bf7-e3cfb29c6c36",
   "metadata": {},
   "outputs": [
    {
     "data": {
      "text/plain": [
       "'Q3.What is DML? Explain INSERT, UPDATE, and DELETE with an example.\\nAnswer:-DML stands for data manipulation language. DML commands are used to modify the database. It is responsible for all form of changes in the database.\\nInsert:-The INSERT statement is a SQL query. It is used to insert data into the row of a table.\\nUpdate:-This command is used to update or modify the value of a column in the table.\\nDelete:-It is used to remove one or more row from a table.'"
      ]
     },
     "execution_count": 3,
     "metadata": {},
     "output_type": "execute_result"
    }
   ],
   "source": [
    "\"\"\"Q3.What is DML? Explain INSERT, UPDATE, and DELETE with an example.\n",
    "Answer:-DML stands for data manipulation language. DML commands are used to modify the database. It is responsible for all form of changes in the database.\n",
    "Insert:-The INSERT statement is a SQL query. It is used to insert data into the row of a table.\n",
    "Update:-This command is used to update or modify the value of a column in the table.\n",
    "Delete:-It is used to remove one or more row from a table.\"\"\""
   ]
  },
  {
   "cell_type": "code",
   "execution_count": 4,
   "id": "6b8b99af-8ec0-4bf9-b3e2-cc702216e3ed",
   "metadata": {},
   "outputs": [
    {
     "data": {
      "text/plain": [
       "\"Q4. What is DQL? Explain SELECT with an example.\\nAnswer:- An SQL SELECT statement retrieves records from a database table according to clauses (for example, FROM and WHERE ) that specify criteria. The syntax is: SELECT column1, column2 FROM table1, table2 WHERE column2='value';\\n\""
      ]
     },
     "execution_count": 4,
     "metadata": {},
     "output_type": "execute_result"
    }
   ],
   "source": [
    "\"\"\"Q4. What is DQL? Explain SELECT with an example.\n",
    "Answer:- An SQL SELECT statement retrieves records from a database table according to clauses (for example, FROM and WHERE ) that specify criteria. The syntax is: SELECT column1, column2 FROM table1, table2 WHERE column2='value';\n",
    "\"\"\""
   ]
  },
  {
   "cell_type": "code",
   "execution_count": 5,
   "id": "c1130c9f-c597-4338-949a-8c52b6994879",
   "metadata": {},
   "outputs": [
    {
     "data": {
      "text/plain": [
       "'Q5. Explain Primary Key and Foreign Key.\\nAnswer:-Primary Key: A primary key is used to ensure that data in the specific column is unique. A column cannot have NULL values. It is either an existing table column or a column that is specifically generated by the database according to a defined sequence. \\nForeign Key: A foreign key is a column or group of columns in a relational database table that provides a link between data in two tables. It is a column (or columns) that references a column (most often the primary key) of another table. '"
      ]
     },
     "execution_count": 5,
     "metadata": {},
     "output_type": "execute_result"
    }
   ],
   "source": [
    "\"\"\"Q5. Explain Primary Key and Foreign Key.\n",
    "Answer:-Primary Key: A primary key is used to ensure that data in the specific column is unique. A column cannot have NULL values. It is either an existing table column or a column that is specifically generated by the database according to a defined sequence. \n",
    "Foreign Key: A foreign key is a column or group of columns in a relational database table that provides a link between data in two tables. It is a column (or columns) that references a column (most often the primary key) of another table. \"\"\""
   ]
  },
  {
   "cell_type": "code",
   "execution_count": 6,
   "id": "5e2c9090-3b91-4b7c-ac6c-d4c16025227a",
   "metadata": {},
   "outputs": [
    {
     "data": {
      "text/plain": [
       "'Q6. Write a python code to connect MySQL to python. Explain the cursor() and execute() method.\\nAnswer:- import mysql.connector\\n         mydb=mysql.connector.connect(\\n         host=\"localhost\"\\n         user=\"abd\"\\n         password=\"password\"\\n         )\\n         cursor():- It is used as a pointer in database . To point the data in the database\\n         execute():- this method used to execute a mysql query in python\\n         \\n         '"
      ]
     },
     "execution_count": 6,
     "metadata": {},
     "output_type": "execute_result"
    }
   ],
   "source": [
    "\"\"\"Q6. Write a python code to connect MySQL to python. Explain the cursor() and execute() method.\n",
    "Answer:- import mysql.connector\n",
    "         mydb=mysql.connector.connect(\n",
    "         host=\"localhost\"\n",
    "         user=\"abd\"\n",
    "         password=\"password\"\n",
    "         )\n",
    "         cursor():- It is used as a pointer in database . To point the data in the database\n",
    "         execute():- this method used to execute a mysql query in python\n",
    "         \n",
    "         \"\"\""
   ]
  },
  {
   "cell_type": "code",
   "execution_count": 7,
   "id": "48abb7c0-1f93-4b56-88d8-faa7263ce5c0",
   "metadata": {},
   "outputs": [
    {
     "data": {
      "text/plain": [
       "'Q7. Give the order of execution of SQL clauses in an SQL query.\\nAnswer :- First, From will run, then after that second where condition will run then the select keyword retrive the data which satisifies the given condition from given table\\nexample:- Select * from emp where sal=5000;'"
      ]
     },
     "execution_count": 7,
     "metadata": {},
     "output_type": "execute_result"
    }
   ],
   "source": [
    "\"\"\"Q7. Give the order of execution of SQL clauses in an SQL query.\n",
    "Answer :- First, From will run, then after that second where condition will run then the select keyword retrive the data which satisifies the given condition from given table\n",
    "example:- Select * from emp where sal=5000;\"\"\""
   ]
  },
  {
   "cell_type": "code",
   "execution_count": null,
   "id": "de4a9071-c73f-4c97-a63c-3f81651dd12e",
   "metadata": {},
   "outputs": [],
   "source": []
  }
 ],
 "metadata": {
  "kernelspec": {
   "display_name": "Python 3 (ipykernel)",
   "language": "python",
   "name": "python3"
  },
  "language_info": {
   "codemirror_mode": {
    "name": "ipython",
    "version": 3
   },
   "file_extension": ".py",
   "mimetype": "text/x-python",
   "name": "python",
   "nbconvert_exporter": "python",
   "pygments_lexer": "ipython3",
   "version": "3.10.8"
  }
 },
 "nbformat": 4,
 "nbformat_minor": 5
}
