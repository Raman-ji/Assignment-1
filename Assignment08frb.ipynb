{
 "cells": [
  {
   "cell_type": "code",
   "execution_count": 1,
   "id": "423b61ca-081c-46cc-a75d-d9009a667f0f",
   "metadata": {},
   "outputs": [
    {
     "name": "stdout",
     "output_type": "stream",
     "text": [
      "Abstraction example:-\n",
      "\n",
      "The mileage is 30kmph\n",
      "The mileage is 25kmph\n"
     ]
    }
   ],
   "source": [
    "\"\"\"Q1. What is Abstraction in OOps? Explain with an example.\n",
    "Answer:-Abstraction in oops means hiding a irrelevant data form user for increase the efficiency of program . Python programming directly not supporting abstraction. But there is way to implement a abstraction in python programming . By importing abc module and abstractionmethod from abc we can implement abstraction class. Lets take an example of abstraction method \n",
    "\"\"\"\n",
    "print(\"Abstraction example:-\\n\")\n",
    "from abc import ABC , abstractmethod\n",
    "class Car(ABC):\n",
    "    @abstractmethod\n",
    "    def mileage(self):\n",
    "        pass\n",
    "class Tesla(Car):\n",
    "    def mileage(self):\n",
    "        print(\"The mileage is 30kmph\")\n",
    "class Suzuki(Car):\n",
    "    def mileage(self):\n",
    "        print(\"The mileage is 25kmph\")\n",
    "\n",
    "t=Tesla()\n",
    "t.mileage()\n",
    "\n",
    "s=Suzuki()\n",
    "s.mileage()"
   ]
  },
  {
   "cell_type": "code",
   "execution_count": 10,
   "id": "e613be60-1a66-4017-900b-ef079262e9d9",
   "metadata": {},
   "outputs": [
    {
     "name": "stdout",
     "output_type": "stream",
     "text": [
      "encapsulation:- \n",
      "\n",
      "('Thar', 360, '35kmph')\n",
      "\n",
      " Abstraction:-\n",
      "\n",
      "The mileage is 30kmph\n",
      "The mileage is 25kmph\n"
     ]
    }
   ],
   "source": [
    "\"\"\"Q2. Differentiate between Abstraction and Encapsulation. Explain with an example.\n",
    "Answer:- Abstraction:-1.Abstraction is the method of hiding the unwanted information\n",
    "2. We can implement abstraction using abc module.\n",
    "Encapsulation:-\n",
    "1.Whereas encapsulation is a method to hide the data in a single entity or unit along with a method to protect information from outside.\n",
    "2.Whereas encapsulation can be implemented using by access modifier i.e. private, protected and public\n",
    "\"\"\"\n",
    "print(\"encapsulation:- \\n\")\n",
    "class car():\n",
    "    def __init__(self, name, model, speed_limit, car_mileage):\n",
    "        self.__name=name\n",
    "        self.__speed_limit= speed_limit\n",
    "        self.__car_mileage=car_mileage\n",
    "    def get(self):\n",
    "        return self.__name, self.__speed_limit, self.__car_mileage\n",
    "car1=car(\"Thar\", \"SUV\", 360, \"35kmph\")\n",
    "print(car1.get())\n",
    "\n",
    "print(\"\\n Abstraction:-\\n\")\n",
    "from abc import ABC , abstractmethod\n",
    "class Car(ABC):\n",
    "    @abstractmethod\n",
    "    def mileage(self):\n",
    "        pass\n",
    "class Tesla(Car):\n",
    "    def mileage(self):\n",
    "        print(\"The mileage is 30kmph\")\n",
    "class Suzuki(Car):\n",
    "    def mileage(self):\n",
    "        print(\"The mileage is 25kmph\")\n",
    "\n",
    "t=Tesla()\n",
    "t.mileage()\n",
    "\n",
    "s=Suzuki()\n",
    "s.mileage()"
   ]
  },
  {
   "cell_type": "code",
   "execution_count": 11,
   "id": "fa19dfc0-9f65-4947-986f-bc769763a902",
   "metadata": {},
   "outputs": [
    {
     "data": {
      "text/plain": [
       "'Question 3 What is abc module in python? Why is it used?\\nAnswer:- abc stands for abstract base class. which used to create a abstract classes in python programming '"
      ]
     },
     "execution_count": 11,
     "metadata": {},
     "output_type": "execute_result"
    }
   ],
   "source": [
    "\"\"\"Question 3 What is abc module in python? Why is it used?\n",
    "Answer:- abc stands for abstract base class. which used to create a abstract classes in python programming \"\"\""
   ]
  },
  {
   "cell_type": "code",
   "execution_count": 12,
   "id": "16299533-7134-4ff1-bc3a-aeae807bb466",
   "metadata": {},
   "outputs": [
    {
     "data": {
      "text/plain": [
       "'Question 4. How can we achieve data abstraction?\\nAnswer:- The process by which data and functions are defined in such a way that only essential details can be seen and unnecessary implementations are hidden is called Data Abstraction.\\nData Abstraction in Python can be achieved through creating abstract classes and inheriting them later.'"
      ]
     },
     "execution_count": 12,
     "metadata": {},
     "output_type": "execute_result"
    }
   ],
   "source": [
    "\"\"\"Question 4. How can we achieve data abstraction?\n",
    "Answer:- The process by which data and functions are defined in such a way that only essential details can be seen and unnecessary implementations are hidden is called Data Abstraction.\n",
    "Data Abstraction in Python can be achieved through creating abstract classes and inheriting them later.\"\"\""
   ]
  },
  {
   "cell_type": "code",
   "execution_count": 13,
   "id": "3f6330da-e559-4626-965e-b050463ee479",
   "metadata": {},
   "outputs": [
    {
     "data": {
      "text/plain": [
       "'Question 5.Can we create an instance of an abstract class? Explain your answer.\\nAnswer:- Abstract classes cannot be instantiated, but they can be subclassed.'"
      ]
     },
     "execution_count": 13,
     "metadata": {},
     "output_type": "execute_result"
    }
   ],
   "source": [
    "\"\"\"Question 5.Can we create an instance of an abstract class? Explain your answer.\n",
    "Answer:- Abstract classes cannot be instantiated, but they can be subclassed.\"\"\""
   ]
  },
  {
   "cell_type": "code",
   "execution_count": null,
   "id": "34727c43-305e-4de2-ac88-b6958e5af753",
   "metadata": {},
   "outputs": [],
   "source": []
  }
 ],
 "metadata": {
  "kernelspec": {
   "display_name": "Python 3 (ipykernel)",
   "language": "python",
   "name": "python3"
  },
  "language_info": {
   "codemirror_mode": {
    "name": "ipython",
    "version": 3
   },
   "file_extension": ".py",
   "mimetype": "text/x-python",
   "name": "python",
   "nbconvert_exporter": "python",
   "pygments_lexer": "ipython3",
   "version": "3.10.8"
  }
 },
 "nbformat": 4,
 "nbformat_minor": 5
}
