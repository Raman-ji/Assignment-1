{
 "cells": [
  {
   "cell_type": "code",
   "execution_count": 4,
   "id": "a795b1c5-da00-41c3-b5cc-65a811fc3015",
   "metadata": {},
   "outputs": [
    {
     "name": "stdout",
     "output_type": "stream",
     "text": [
      "Answer:-\n",
      "\n"
     ]
    }
   ],
   "source": [
    "\"\"\"Q1, Create a vehicle class with an init method having instance variables as name_of_vehicle, max_speed\n",
    "and average_of_vehicle.\n",
    "Answer:- \"\"\"\n",
    "print(\"Answer:-\\n\")\n",
    "class vehicle():\n",
    "    def __init__(self, name_of_vehicle, max_speed, average_of_vehicle):\n",
    "        self.name_of_vehicle=name_of_vehicle\n",
    "        self.max_speed=max_speed\n",
    "        self.average_of_vehicle=average_of_vehicle\n",
    "    "
   ]
  },
  {
   "cell_type": "code",
   "execution_count": 9,
   "id": "dfce12b0-b6c8-4619-8ca3-7a806297fe26",
   "metadata": {},
   "outputs": [
    {
     "name": "stdout",
     "output_type": "stream",
     "text": [
      "Answer:-\n",
      "\n"
     ]
    },
    {
     "data": {
      "text/plain": [
       "('maruti', 4)"
      ]
     },
     "execution_count": 9,
     "metadata": {},
     "output_type": "execute_result"
    }
   ],
   "source": [
    "\"\"\"Q2. Create a child class car from the vehicle class created in Que 1, which will inherit the vehicle class.\n",
    "Create a method named seating_capacity which takes capacity as an argument and returns the name of\n",
    "the vehicle and its seating capacity.\"\"\"\n",
    "print(\"Answer:-\\n\")\n",
    "class car(vehicle):\n",
    "    def seating_capacity(self, capacity):\n",
    "        self.capacity=capacity\n",
    "        return self.name_of_vehicle, self.capacity\n",
    "car1=car(\"maruti\", 300, \"60kmph\")\n",
    "car1.seating_capacity(4)"
   ]
  },
  {
   "cell_type": "code",
   "execution_count": 11,
   "id": "2ac5d387-00d2-46e7-8b39-aa54f420f87e",
   "metadata": {},
   "outputs": [
    {
     "name": "stdout",
     "output_type": "stream",
     "text": [
      "Multiple Inheritance:-\n",
      "\n",
      "Hey! I am Raman's Father. Raman is very intellegent guy. But little bit weak in english speaking \n"
     ]
    }
   ],
   "source": [
    "\"\"\"Q3. What is multiple inheritance? Write a python code to demonstrate multiple inheritance.\n",
    "Answer:-Multiple inheritance is when the child class have more than one parent class means a class inherit more than one class \"\"\"\n",
    "print(\"Multiple Inheritance:-\\n\")\n",
    "class dad():\n",
    "    def info_dad(self):\n",
    "        print(\"Hey! I am Raman's Father. Raman is very intellegent guy. But little bit weak in english speaking \")\n",
    "class mom():\n",
    "    def info_mom(self):\n",
    "        print(\"Hey! I am Raman's Mom. He is very caring person for everyone\")\n",
    "class Raman(dad, mom):\n",
    "    def info(self):\n",
    "        print(\"Hey! I am Raman. I do a code and try to speak in english\")\n",
    "raman=Raman()\n",
    "raman.info_dad()"
   ]
  },
  {
   "cell_type": "code",
   "execution_count": 17,
   "id": "2ca81e4b-1bd8-4187-8f48-a259065d0d55",
   "metadata": {},
   "outputs": [
    {
     "data": {
      "text/plain": [
       "('Mercedes', 400, '80kmph')"
      ]
     },
     "execution_count": 17,
     "metadata": {},
     "output_type": "execute_result"
    }
   ],
   "source": [
    "\"\"\"Q4. What are getter and setter in python? Create a class and create a getter and a setter method in this\n",
    "class.\n",
    "Answer:- getter:- this method is use to get the some information for the user\n",
    "        setter:- this method is use to set the information from the user\"\"\"\n",
    "class car():\n",
    "    def __init__(self, name_of_car, max_speed, average_of_vehicle):\n",
    "        self.__name_of_car=name_of_car\n",
    "        self.__max_speed=max_speed\n",
    "        self.__average_of_vehicle=average_of_vehicle\n",
    "    def setter(self, name, speed, avg_vehicle):\n",
    "        self.__name_of_car=name\n",
    "        self.__max_speed=speed\n",
    "        self.__average_of_vehicle=avg_vehicle\n",
    "    def getter(self):\n",
    "        return  self.__name_of_car, self.__max_speed, self.__average_of_vehicle\n",
    "Car1=car(\"Maruti\", 360, \"60kmph\")\n",
    "Car1.setter(\"Mercedes\",400, \"80kmph\")\n",
    "Car1.getter()"
   ]
  },
  {
   "cell_type": "code",
   "execution_count": 18,
   "id": "8b669c8e-a105-4ed2-a69c-87a190a1ba95",
   "metadata": {},
   "outputs": [
    {
     "name": "stdout",
     "output_type": "stream",
     "text": [
      "Program:-\n",
      "\n",
      "Total Working Hrs :  8\n",
      "Total Working Hrs :  9\n"
     ]
    }
   ],
   "source": [
    "\"\"\"Q5.What is method overriding in python? Write a python code to demonstrate method overriding.\n",
    "Answer:- Method overriding is an ability of any object-oriented programming language that allows a subclass or child class to provide a specific implementation of a method that is already provided by one of its super-classes or parent classes. When a method in a subclass has the same name, same parameters or signature and same return type(or sub-type) as a method in its super-class, then the method in the subclass is said to override the method in the super-class.\n",
    "\"\"\"\n",
    "print(\"Program:-\\n\")\n",
    "class Employee:\n",
    "    def WorkingHrs(self):\n",
    "        self.hrs = 8\n",
    " \n",
    "    def printHrs(self):\n",
    "        print(\"Total Working Hrs : \", self.hrs)\n",
    " \n",
    " \n",
    "class Trainee(Employee):\n",
    "    def WorkingHrs(self):\n",
    "        self.hrs = 9\n",
    "    def printHrs(self):\n",
    "        print(\"Total Working Hrs : \", self.hrs)\n",
    "\n",
    "employee = Employee()\n",
    "employee.WorkingHrs()\n",
    "employee.printHrs()\n",
    " \n",
    "trainee=Trainee()\n",
    "trainee.WorkingHrs()\n",
    "trainee.printHrs()"
   ]
  },
  {
   "cell_type": "code",
   "execution_count": null,
   "id": "297b394d-c614-4228-8009-87a94a9c9567",
   "metadata": {},
   "outputs": [],
   "source": []
  }
 ],
 "metadata": {
  "kernelspec": {
   "display_name": "Python 3 (ipykernel)",
   "language": "python",
   "name": "python3"
  },
  "language_info": {
   "codemirror_mode": {
    "name": "ipython",
    "version": 3
   },
   "file_extension": ".py",
   "mimetype": "text/x-python",
   "name": "python",
   "nbconvert_exporter": "python",
   "pygments_lexer": "ipython3",
   "version": "3.10.8"
  }
 },
 "nbformat": 4,
 "nbformat_minor": 5
}
