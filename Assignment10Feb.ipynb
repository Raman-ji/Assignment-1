{
 "cells": [
  {
   "cell_type": "code",
   "execution_count": 1,
   "id": "0003e072-2c2a-4684-9899-c2a111330e9a",
   "metadata": {},
   "outputs": [
    {
     "data": {
      "text/plain": [
       "'Question 1. Which function is used to open a file? What are the different modes of opening a file? Explain each mode\\nof file opening.\\nAnswer:- For opening a file we use \"open(filename, mode)\" function in this first parrenthesis is a filename and second paranthese is mode which tell in which mode we want to open a file \\nMode:- \\nr:- It is used to for reading purpose\\nw:- It is used for writing purpose\\na:- It is used for append some data in the file \\nwb:-It is used for writing a binary data into the file \\nrb :- It is used to read the binary data in the binary file \\nab:- It is used to append the data in the file \\n'"
      ]
     },
     "execution_count": 1,
     "metadata": {},
     "output_type": "execute_result"
    }
   ],
   "source": [
    "\"\"\"Question 1. Which function is used to open a file? What are the different modes of opening a file? Explain each mode\n",
    "of file opening.\n",
    "Answer:- For opening a file we use \"open(filename, mode)\" function in this first parrenthesis is a filename and second paranthese is mode which tell in which mode we want to open a file \n",
    "Mode:- \n",
    "r:- It is used to for reading purpose\n",
    "w:- It is used for writing purpose\n",
    "a:- It is used for append some data in the file \n",
    "wb:-It is used for writing a binary data into the file \n",
    "rb :- It is used to read the binary data in the binary file \n",
    "ab:- It is used to append the data in the file \n",
    "\"\"\""
   ]
  },
  {
   "cell_type": "code",
   "execution_count": 2,
   "id": "7198ca75-9bee-42a4-bd5a-23108a7d4dcf",
   "metadata": {},
   "outputs": [
    {
     "data": {
      "text/plain": [
       "\"Question 2. Why close() function is used? Why is it important to close a file?\\n Answer:- close() function we can simply say that it used to close the file . When we open a file like in write mode so without using close() function the changes can't be applie on the file \\n so that's it is the good and mandatory to close the file.\\n\""
      ]
     },
     "execution_count": 2,
     "metadata": {},
     "output_type": "execute_result"
    }
   ],
   "source": [
    "\"\"\"Question 2. Why close() function is used? Why is it important to close a file?\n",
    " Answer:- close() function we can simply say that it used to close the file . When we open a file like in write mode so without using close() function the changes can't be applie on the file \n",
    " so that's it is the good and mandatory to close the file.\n",
    "\"\"\""
   ]
  },
  {
   "cell_type": "code",
   "execution_count": 12,
   "id": "b77257a3-30d2-4b2c-8b27-9c839ebb832a",
   "metadata": {},
   "outputs": [],
   "source": [
    "\"\"\"Question 3. Write a python program to create a text file. Write ‘I want to become a Data Scientist’ in that file. Then\n",
    "close the file. Open this file and read the content of the file.\n",
    "Answer:- \"\"\"\n",
    "file=open(\"Assignment.txt\", \"w\")\n",
    "write_file= file.write(\"I want to become a Data Scientist\")\n",
    "file.close()\n"
   ]
  },
  {
   "cell_type": "code",
   "execution_count": 13,
   "id": "8d66fcea-21b6-41de-ba03-f8486830f1bd",
   "metadata": {},
   "outputs": [
    {
     "data": {
      "text/plain": [
       "'Question 4. Explain the following with python code: read(), readline() and readlines().\\nAnswer:- read():- By default the read() method returns the whole text, but you can also specify how many characters you want to return\\nreadline():- you can return one line by using the readline() method\\nreadlines():-This method reads up to the end of the line with readlines () and returns a list\\n'"
      ]
     },
     "execution_count": 13,
     "metadata": {},
     "output_type": "execute_result"
    }
   ],
   "source": [
    "\"\"\"Question 4. Explain the following with python code: read(), readline() and readlines().\n",
    "Answer:- read():- By default the read() method returns the whole text, but you can also specify how many characters you want to return\n",
    "readline():- you can return one line by using the readline() method\n",
    "readlines():-This method reads up to the end of the line with readlines () and returns a list\n",
    "\"\"\""
   ]
  },
  {
   "cell_type": "code",
   "execution_count": 1,
   "id": "88439d6e-cb5e-45bd-8172-bc5fe7aba3b2",
   "metadata": {},
   "outputs": [
    {
     "data": {
      "text/plain": [
       "\"Question 5. Explain why with statement is used with open(). What is the advantage of using with statement and open together\\nAnswer:- We use with statement because it makes the code cleaner and easier to readble others the advantage of with statement with open function that after using with statement with open function we don't need to close the file\\n\""
      ]
     },
     "execution_count": 1,
     "metadata": {},
     "output_type": "execute_result"
    }
   ],
   "source": [
    "\"\"\"Question 5. Explain why with statement is used with open(). What is the advantage of using with statement and open together\n",
    "Answer:- We use with statement because it makes the code cleaner and easier to readble others the advantage of with statement with open function that after using with statement with open function we don't need to close the file\n",
    "\"\"\""
   ]
  },
  {
   "cell_type": "code",
   "execution_count": 8,
   "id": "7464f798-d168-4cc9-9282-b4349f123a44",
   "metadata": {},
   "outputs": [],
   "source": [
    "\"\"\"Question 6. Explain the write() and writelines() functions. give a suitable example\n",
    "Answer:- write():-The write() function will write the content in the file without adding any extra characters.\n",
    "         writelines():-The writelines() method writes the items of a list to the file. \"\"\"\n",
    "f= open(\"test3.txt\", \"w\") \n",
    "f.write(\"The first statement with write method \")\n",
    "f.write(\" The second statement with write method\\n\")\n",
    "f.writelines([\"This is the first statement with writelines method \", \"This is my second statement with writelines method\"])\n",
    "f.close()\n",
    "   "
   ]
  },
  {
   "cell_type": "code",
   "execution_count": null,
   "id": "95e033dd-46a4-4446-93db-51695a766c7d",
   "metadata": {},
   "outputs": [],
   "source": []
  }
 ],
 "metadata": {
  "kernelspec": {
   "display_name": "Python 3 (ipykernel)",
   "language": "python",
   "name": "python3"
  },
  "language_info": {
   "codemirror_mode": {
    "name": "ipython",
    "version": 3
   },
   "file_extension": ".py",
   "mimetype": "text/x-python",
   "name": "python",
   "nbconvert_exporter": "python",
   "pygments_lexer": "ipython3",
   "version": "3.10.8"
  }
 },
 "nbformat": 4,
 "nbformat_minor": 5
}
