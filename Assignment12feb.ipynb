{
 "cells": [
  {
   "cell_type": "code",
   "execution_count": 1,
   "id": "18175a6a-6bba-447a-b902-24cb51958def",
   "metadata": {},
   "outputs": [
    {
     "data": {
      "text/plain": [
       "'Question 1 What is an Exception in python? Write the difference between Exception and syntax errors\\nAnswer:- An exception is an event, which occurs during the execution of a program that disrupts the normal flow of program.The major difference in between syntax error and exception error is that the in syntax error there is an error in syntax in statment and in exception error there is not any error in syntax in statement but after execution there is excepted error are come let we take example that divide by zero in program will create an error but not syntax error '"
      ]
     },
     "execution_count": 1,
     "metadata": {},
     "output_type": "execute_result"
    }
   ],
   "source": [
    "\"\"\"Question 1 What is an Exception in python? Write the difference between Exception and syntax errors\n",
    "Answer:- An exception is an event, which occurs during the execution of a program that disrupts the normal flow of program.The major difference in between syntax error and exception error is that the in syntax error there is an error in syntax in statment and in exception error there is not any error in syntax in statement but after execution there is excepted error are come let we take example that divide by zero in program will create an error but not syntax error \"\"\""
   ]
  },
  {
   "cell_type": "code",
   "execution_count": 6,
   "id": "7e632827-b240-482d-ba91-fa2c72aabfa0",
   "metadata": {},
   "outputs": [
    {
     "name": "stdin",
     "output_type": "stream",
     "text": [
      "Enter a first number 5\n",
      "Enter a second number 0\n"
     ]
    },
    {
     "name": "stdout",
     "output_type": "stream",
     "text": [
      "division by zero\n"
     ]
    }
   ],
   "source": [
    "\"\"\"Question 2. What happens when an execption is not handled ? Explain with an example\n",
    "Answer:- when an exception is not handled then runtime system will abort the program and an exception message will print to the console \"\"\"\n",
    "import logging\n",
    "logging.basicConfig(filename=\"file1.log\", level=logging.INFO, format=\"%(asctime)s %(message)s\")\n",
    "logging.info(\"Program\")\n",
    "num1=int(input(\"Enter a first number\"))\n",
    "num2=int(input(\"Enter a second number\"))\n",
    "logging.info(\"First number is \" +str(num1))\n",
    "logging.info(\"Second number is\" +str(num2))\n",
    "try:\n",
    "    divide=(num1/num2)\n",
    "    print(\"Divison=\",divide)\n",
    "    logging.info(\"Division is \"+str(divide))\n",
    "except Exception as e:\n",
    "    print(e)\n",
    "logging.shutdown()"
   ]
  },
  {
   "cell_type": "code",
   "execution_count": 9,
   "id": "24be620d-d490-445a-9031-7f82e32e9d88",
   "metadata": {},
   "outputs": [
    {
     "name": "stdin",
     "output_type": "stream",
     "text": [
      "Enter a first number 5\n",
      "Enter a second number 0\n"
     ]
    },
    {
     "name": "stdout",
     "output_type": "stream",
     "text": [
      "division by zero\n"
     ]
    }
   ],
   "source": [
    "\"\"\"Question 3 Which python statements are used to catch and handle exceptions? Explain with an example.\n",
    "Answer: try except are used to catch and handle exceptions .\"\"\"\n",
    "num1=int(input(\"Enter a first number\"))\n",
    "num2=int(input(\"Enter a second number\"))\n",
    "try:\n",
    "    divide=(num1/num2)\n",
    "    print(\"Divison=\",divide)\n",
    "except Exception as e:\n",
    "    print(e)"
   ]
  },
  {
   "cell_type": "code",
   "execution_count": 1,
   "id": "e1edea13-8b65-4f82-a36d-4462688d73a5",
   "metadata": {},
   "outputs": [
    {
     "name": "stdout",
     "output_type": "stream",
     "text": [
      "try and else, finally, raise\n"
     ]
    },
    {
     "name": "stdin",
     "output_type": "stream",
     "text": [
      "Enter a first number -63\n",
      "Enter a second number 65\n"
     ]
    },
    {
     "name": "stdout",
     "output_type": "stream",
     "text": [
      "Divison= -0.9692307692307692\n",
      "It will run every time\n"
     ]
    },
    {
     "name": "stdin",
     "output_type": "stream",
     "text": [
      "enter a age -96\n"
     ]
    },
    {
     "ename": "Exception",
     "evalue": "sorry, no number below zero",
     "output_type": "error",
     "traceback": [
      "\u001b[0;31m---------------------------------------------------------------------------\u001b[0m",
      "\u001b[0;31mException\u001b[0m                                 Traceback (most recent call last)",
      "Cell \u001b[0;32mIn[1], line 17\u001b[0m\n\u001b[1;32m     15\u001b[0m age \u001b[38;5;241m=\u001b[39m \u001b[38;5;28mint\u001b[39m(\u001b[38;5;28minput\u001b[39m(\u001b[38;5;124m\"\u001b[39m\u001b[38;5;124menter a age\u001b[39m\u001b[38;5;124m\"\u001b[39m))\n\u001b[1;32m     16\u001b[0m \u001b[38;5;28;01mif\u001b[39;00m age\u001b[38;5;241m<\u001b[39m\u001b[38;5;241m0\u001b[39m:\n\u001b[0;32m---> 17\u001b[0m     \u001b[38;5;28;01mraise\u001b[39;00m \u001b[38;5;167;01mException\u001b[39;00m(\u001b[38;5;124m\"\u001b[39m\u001b[38;5;124msorry, no number below zero\u001b[39m\u001b[38;5;124m\"\u001b[39m)\n\u001b[1;32m     18\u001b[0m \u001b[38;5;28;01melif\u001b[39;00m age\u001b[38;5;241m>\u001b[39m\u001b[38;5;241m150\u001b[39m:\n\u001b[1;32m     19\u001b[0m     \u001b[38;5;28;01mraise\u001b[39;00m \u001b[38;5;167;01mException\u001b[39;00m(\u001b[38;5;124m\"\u001b[39m\u001b[38;5;124mSorry, age is very high\u001b[39m\u001b[38;5;124m\"\u001b[39m)\n",
      "\u001b[0;31mException\u001b[0m: sorry, no number below zero"
     ]
    }
   ],
   "source": [
    "\"\"\"Question 4 Explain with an example:\n",
    "a. try and else\"\"\"\n",
    "print(\"try and else, finally, raise\")\n",
    "num1=int(input(\"Enter a first number\"))\n",
    "num2=int(input(\"Enter a second number\"))\n",
    "try:\n",
    "    divide=(num1/num2)\n",
    "except Exception as e:\n",
    "    print(e)\n",
    "else:\n",
    "    print(\"Divison=\",divide)\n",
    "finally:\n",
    "    print(\"It will run every time\")\n",
    "    \n",
    "age = int(input(\"enter a age\"))\n",
    "if age<0:\n",
    "    raise Exception(\"sorry, no number below zero\")\n",
    "elif age>150:\n",
    "    raise Exception(\"Sorry, age is very high\")\n",
    "else:\n",
    "    print(\"valid age\")"
   ]
  },
  {
   "cell_type": "code",
   "execution_count": 5,
   "id": "dc15adf6-cb2a-4037-b371-eb771789483b",
   "metadata": {},
   "outputs": [
    {
     "data": {
      "text/plain": [
       "\"Question 5 What are custom exception in python? Why di we need custom exceptions ? Explain with an example.\\nAnsweer:- Custom exception in python is that exception which are not already define but we want this error so we custom it so that's why we need custom exception\\nExample:- we can take that is that age should not be negative and greater than some limit so at that time we have to design custom exception\""
      ]
     },
     "execution_count": 5,
     "metadata": {},
     "output_type": "execute_result"
    }
   ],
   "source": [
    "\"\"\"Question 5 What are custom exception in python? Why di we need custom exceptions ? Explain with an example.\n",
    "Answeer:- Custom exception in python is that exception which are not already define but we want this error so we custom it so that's why we need custom exception\n",
    "Example:- we can take that is that age should not be negative and greater than some limit so at that time we have to design custom exception\"\"\"\n"
   ]
  },
  {
   "cell_type": "code",
   "execution_count": 8,
   "id": "21119806-fab5-4a60-8edc-133546f34f32",
   "metadata": {},
   "outputs": [
    {
     "name": "stdout",
     "output_type": "stream",
     "text": [
      "Program\n",
      "\n"
     ]
    },
    {
     "name": "stdin",
     "output_type": "stream",
     "text": [
      "Enter salary amount:  1000\n"
     ]
    },
    {
     "ename": "SalaryNotInRangeError",
     "evalue": "(1000, 'Salary is not in (5000, 15000) range')",
     "output_type": "error",
     "traceback": [
      "\u001b[0;31m---------------------------------------------------------------------------\u001b[0m",
      "\u001b[0;31mSalaryNotInRangeError\u001b[0m                     Traceback (most recent call last)",
      "Cell \u001b[0;32mIn[8], line 15\u001b[0m\n\u001b[1;32m     12\u001b[0m          \u001b[38;5;28;01mraise\u001b[39;00m SalaryNotInRangeError(salary,\u001b[38;5;124m\"\u001b[39m\u001b[38;5;124mSalary is not in (5000, 15000) range\u001b[39m\u001b[38;5;124m\"\u001b[39m)\n\u001b[1;32m     14\u001b[0m salary2 \u001b[38;5;241m=\u001b[39m \u001b[38;5;28mint\u001b[39m(\u001b[38;5;28minput\u001b[39m(\u001b[38;5;124m\"\u001b[39m\u001b[38;5;124mEnter salary amount: \u001b[39m\u001b[38;5;124m\"\u001b[39m))\n\u001b[0;32m---> 15\u001b[0m \u001b[43mcheck_salary\u001b[49m\u001b[43m(\u001b[49m\u001b[43msalary2\u001b[49m\u001b[43m)\u001b[49m\n",
      "Cell \u001b[0;32mIn[8], line 12\u001b[0m, in \u001b[0;36mcheck_salary\u001b[0;34m(salary1)\u001b[0m\n\u001b[1;32m     10\u001b[0m     \u001b[38;5;28mprint\u001b[39m(\u001b[38;5;124m\"\u001b[39m\u001b[38;5;124mSalary is in range\u001b[39m\u001b[38;5;130;01m\\n\u001b[39;00m\u001b[38;5;124m\"\u001b[39m)\n\u001b[1;32m     11\u001b[0m \u001b[38;5;28;01melse\u001b[39;00m:\n\u001b[0;32m---> 12\u001b[0m      \u001b[38;5;28;01mraise\u001b[39;00m SalaryNotInRangeError(salary,\u001b[38;5;124m\"\u001b[39m\u001b[38;5;124mSalary is not in (5000, 15000) range\u001b[39m\u001b[38;5;124m\"\u001b[39m)\n",
      "\u001b[0;31mSalaryNotInRangeError\u001b[0m: (1000, 'Salary is not in (5000, 15000) range')"
     ]
    }
   ],
   "source": [
    "\"\"\"Question 6 Create a custom exception class. use this class to handle an exception\"\"\"\n",
    "print(\"Program\\n\")\n",
    "class SalaryNotInRangeError(Exception):\n",
    "    def __init__(self, salary, message):\n",
    "        self.salary = salary\n",
    "        self.message = message\n",
    "\n",
    "def check_salary(salary1):\n",
    "    if (5000 < salary1 and salary1 < 15000):\n",
    "        print(\"Salary is in range\\n\")\n",
    "    else:\n",
    "         raise SalaryNotInRangeError(salary,\"Salary is not in (5000, 15000) range\")\n",
    "try:\n",
    "    salary2 = int(input(\"Enter salary amount: \"))\n",
    "    check_salary(salary2)\n",
    "except SalaryNotInRangeError as e:\n",
    "    print"
   ]
  },
  {
   "cell_type": "code",
   "execution_count": null,
   "id": "0fadd83d-6e2c-4ee4-8e34-3b59f6e7a364",
   "metadata": {},
   "outputs": [],
   "source": []
  }
 ],
 "metadata": {
  "kernelspec": {
   "display_name": "Python 3 (ipykernel)",
   "language": "python",
   "name": "python3"
  },
  "language_info": {
   "codemirror_mode": {
    "name": "ipython",
    "version": 3
   },
   "file_extension": ".py",
   "mimetype": "text/x-python",
   "name": "python",
   "nbconvert_exporter": "python",
   "pygments_lexer": "ipython3",
   "version": "3.10.8"
  }
 },
 "nbformat": 4,
 "nbformat_minor": 5
}
