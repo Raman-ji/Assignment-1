{
 "cells": [
  {
   "cell_type": "code",
   "execution_count": 1,
   "id": "12d9ce10-63ae-4646-a838-62d1ec65beb7",
   "metadata": {},
   "outputs": [
    {
     "data": {
      "text/plain": [
       "'Question 1 what is multithreading in python? hy is it used? Name the module used to handle threads in python\\nAnswer:- Multithreading refers to concurrently executing multiple threads by rapidly switching the control of the cpu betweem threads . We use multithreading because to improve the performance of the program in this multiple thread can run concurrently in the single cpu core . The module name used to handle threads in python is \"threading\" '"
      ]
     },
     "execution_count": 1,
     "metadata": {},
     "output_type": "execute_result"
    }
   ],
   "source": [
    "\"\"\"Question 1 what is multithreading in python? hy is it used? Name the module used to handle threads in python\n",
    "Answer:- Multithreading refers to concurrently executing multiple threads by rapidly switching the control of the cpu betweem threads . We use multithreading because to improve the performance of the program in this multiple thread can run concurrently in the single cpu core . The module name used to handle threads in python is \"threading\" \"\"\""
   ]
  },
  {
   "cell_type": "code",
   "execution_count": 4,
   "id": "3c016caa-18ed-45ec-8087-f88a1ecbfb30",
   "metadata": {},
   "outputs": [
    {
     "data": {
      "text/plain": [
       "\"Question 2 Why threading module used? write the use of the following functions \\n1.activeCount()\\n2. currentThread()\\n3.enumerate()\\nAnswer:- Threading module is used to implement threading in the program . \\n1.activeCount():-Returns the number of thread objects that are active.\\n2.currentThread():- Returns the number of thread objects in the caller's thread control\\n3.enumerate():-Returns a list of all thread object that are currently active. \""
      ]
     },
     "execution_count": 4,
     "metadata": {},
     "output_type": "execute_result"
    }
   ],
   "source": [
    "\"\"\"Question 2 Why threading module used? write the use of the following functions \n",
    "1.activeCount()\n",
    "2. currentThread()\n",
    "3.enumerate()\n",
    "Answer:- Threading module is used to implement threading in the program . \n",
    "1.activeCount():-Returns the number of thread objects that are active.\n",
    "2.currentThread():- Returns the number of thread objects in the caller's thread control\n",
    "3.enumerate():-Returns a list of all thread object that are currently active. \"\"\""
   ]
  },
  {
   "cell_type": "code",
   "execution_count": 5,
   "id": "c8b98e1f-8e8c-4980-a957-e1bf8accefcc",
   "metadata": {},
   "outputs": [
    {
     "data": {
      "text/plain": [
       "'Question 3. Explain the following functions\\n1.run()\\n2.start()\\n3.join()\\n4.isAlive()\\nAnswer:- run():- The run() method is the entry point for a thread. \\nstart():- The start() method starts a thread by calling the run method\\njoin():- The join() waits for threads to terminate.\\nisAlive():- The isAlive() method checks whether a thread is still executing'"
      ]
     },
     "execution_count": 5,
     "metadata": {},
     "output_type": "execute_result"
    }
   ],
   "source": [
    "\"\"\"Question 3. Explain the following functions\n",
    "1.run()\n",
    "2.start()\n",
    "3.join()\n",
    "4.isAlive()\n",
    "Answer:- run():- The run() method is the entry point for a thread. \n",
    "start():- The start() method starts a thread by calling the run method\n",
    "join():- The join() waits for threads to terminate.\n",
    "isAlive():- The isAlive() method checks whether a thread is still executing\"\"\""
   ]
  },
  {
   "cell_type": "code",
   "execution_count": 19,
   "id": "422a4fc6-f2f5-4fa1-bef4-653ba5e24b5d",
   "metadata": {},
   "outputs": [
    {
     "name": "stdout",
     "output_type": "stream",
     "text": [
      "Program\n",
      "\n",
      "[4, 9, 16, 25, 36, 49, 64, 81]\n",
      "[8, 27, 64, 125, 216, 343, 512, 729]\n"
     ]
    }
   ],
   "source": [
    "\"\"\"Question 4. Write a python program to create two threads. Thread one must print the list of squares and thread two print the list of cubes\"\"\"\n",
    "print(\"Program\\n\")\n",
    "#sq_list[]\n",
    "#cu_list[]\n",
    "list1=[2,3,4,5,6,7,8,9]\n",
    "list2=[2,3,4,5,6,7,8,9]\n",
    "import threading\n",
    "def list_square(n):\n",
    "    return n**2\n",
    "def list_cube(n):\n",
    "    return n**3\n",
    "def check(i):\n",
    "    if i == 0:\n",
    "        x=list(map(list_square, list1))\n",
    "        print(list(x))   \n",
    "    else:\n",
    "        x=list(map(list_cube, list2))\n",
    "        print(list(x))\n",
    "thread=[threading.Thread(target=check, args=(j,))for j in range(2)]\n",
    "for t in thread:\n",
    "    t.start()\n",
    "    t.join()"
   ]
  },
  {
   "cell_type": "code",
   "execution_count": 20,
   "id": "17ec8046-401c-4fb9-9307-1fbf895ce48b",
   "metadata": {},
   "outputs": [
    {
     "data": {
      "text/plain": [
       "'Question 5. State advantage and disadvantage of multithreading.\\nAnswer:- Advantage :- By using the multithreading performance of the program is increase\\n         Disadvantage:- As we know in multithreading multiple thread all are executing in single core because of that load can increase in core so pprogram can be exceute slowly '"
      ]
     },
     "execution_count": 20,
     "metadata": {},
     "output_type": "execute_result"
    }
   ],
   "source": [
    "\"\"\"Question 5. State advantage and disadvantage of multithreading.\n",
    "Answer:- Advantage :- By using the multithreading performance of the program is increase\n",
    "         Disadvantage:- As we know in multithreading multiple thread all are executing in single core because of that load can increase in core so pprogram can be exceute slowly \"\"\""
   ]
  },
  {
   "cell_type": "code",
   "execution_count": 22,
   "id": "cfebd236-ac03-4495-b5e3-63f496832f74",
   "metadata": {},
   "outputs": [
    {
     "data": {
      "text/plain": [
       "\"Question 6. Explain deadlocks and race conditions.\\nAmswer:- Deadlock:- In deadlock multiple process are wants to access the same resouce for that's why deadlock is arise\\n        race condition:-Two (or more) threads alter the state of a shared resource concurrently, leaving it in an unpredictable state\""
      ]
     },
     "execution_count": 22,
     "metadata": {},
     "output_type": "execute_result"
    }
   ],
   "source": [
    "\"\"\"Question 6. Explain deadlocks and race conditions.\n",
    "Amswer:- Deadlock:- In deadlock multiple process are wants to access the same resouce for that's why deadlock is arise\n",
    "        race condition:-Two (or more) threads alter the state of a shared resource concurrently, leaving it in an unpredictable state\"\"\""
   ]
  },
  {
   "cell_type": "code",
   "execution_count": null,
   "id": "1b13b9b9-ccf5-44bf-81c2-77c7b8e99036",
   "metadata": {},
   "outputs": [],
   "source": []
  }
 ],
 "metadata": {
  "kernelspec": {
   "display_name": "Python 3 (ipykernel)",
   "language": "python",
   "name": "python3"
  },
  "language_info": {
   "codemirror_mode": {
    "name": "ipython",
    "version": 3
   },
   "file_extension": ".py",
   "mimetype": "text/x-python",
   "name": "python",
   "nbconvert_exporter": "python",
   "pygments_lexer": "ipython3",
   "version": "3.10.8"
  }
 },
 "nbformat": 4,
 "nbformat_minor": 5
}
