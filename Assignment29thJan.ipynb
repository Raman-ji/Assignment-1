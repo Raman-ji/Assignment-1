{
 "cells": [
  {
   "cell_type": "code",
   "execution_count": 1,
   "id": "6d9d8ec0-32cb-4899-bf40-94ed06a33de8",
   "metadata": {},
   "outputs": [
    {
     "data": {
      "text/plain": [
       "'Question 1 Who developed python programming language?\\nAnswer:- Guido van Rossum'"
      ]
     },
     "execution_count": 1,
     "metadata": {},
     "output_type": "execute_result"
    }
   ],
   "source": [
    "\"\"\"Question 1 Who developed python programming language?\n",
    "Answer:- Guido van Rossum\"\"\""
   ]
  },
  {
   "cell_type": "code",
   "execution_count": 2,
   "id": "6acdd6a0-d9e4-4ea4-ae20-04b12ba7e7d5",
   "metadata": {},
   "outputs": [
    {
     "data": {
      "text/plain": [
       "'Question 2 Which type of programming does python support?\\nAnswer:- Python support object oriented programming and structured programming are fully supported '"
      ]
     },
     "execution_count": 2,
     "metadata": {},
     "output_type": "execute_result"
    }
   ],
   "source": [
    "\"\"\"Question 2 Which type of programming does python support?\n",
    "Answer:- Python support object oriented programming and structured programming are fully supported \"\"\""
   ]
  },
  {
   "cell_type": "code",
   "execution_count": 3,
   "id": "2fbd7094-b503-46fa-a824-1686287ff5df",
   "metadata": {},
   "outputs": [
    {
     "data": {
      "text/plain": [
       "'Question 3 Is python case sensitive when dealing with identifiers ?\\nAnswer :- yes python is a case sensitive when dealing with identifiers'"
      ]
     },
     "execution_count": 3,
     "metadata": {},
     "output_type": "execute_result"
    }
   ],
   "source": [
    "\"\"\"Question 3 Is python case sensitive when dealing with identifiers ?\n",
    "Answer :- yes python is a case sensitive when dealing with identifiers\"\"\""
   ]
  },
  {
   "cell_type": "code",
   "execution_count": 4,
   "id": "84ab697e-435e-4df2-83dd-48cbf80dedfa",
   "metadata": {},
   "outputs": [
    {
     "data": {
      "text/plain": [
       "'Question 4 What is the correct extension of the python file ?\\nAnswer:- .py'"
      ]
     },
     "execution_count": 4,
     "metadata": {},
     "output_type": "execute_result"
    }
   ],
   "source": [
    "\"\"\"Question 4 What is the correct extension of the python file ?\n",
    "Answer:- .py\"\"\""
   ]
  },
  {
   "cell_type": "code",
   "execution_count": 5,
   "id": "4aeb1183-640a-4b73-a9f6-c368ec08536e",
   "metadata": {},
   "outputs": [
    {
     "data": {
      "text/plain": [
       "'Question 5 Is python code compiled or interpreted \\nAnswer:- interpreted language '"
      ]
     },
     "execution_count": 5,
     "metadata": {},
     "output_type": "execute_result"
    }
   ],
   "source": [
    "\"\"\"Question 5 Is python code compiled or interpreted \n",
    "Answer:- interpreted language \"\"\""
   ]
  },
  {
   "cell_type": "code",
   "execution_count": 6,
   "id": "01c86328-fa9c-4676-91a5-672ca478c0af",
   "metadata": {},
   "outputs": [
    {
     "data": {
      "text/plain": [
       "'Question 6 Name a few blocks of code used to define in python language?\\nAnswer:-  a module, a function body, and a class definition '"
      ]
     },
     "execution_count": 6,
     "metadata": {},
     "output_type": "execute_result"
    }
   ],
   "source": [
    "\"\"\"Question 6 Name a few blocks of code used to define in python language?\n",
    "Answer:-  a module, a function body, and a class definition \"\"\""
   ]
  },
  {
   "cell_type": "code",
   "execution_count": 7,
   "id": "e74f94e5-e52f-498e-abc1-b17fdf40ee5a",
   "metadata": {},
   "outputs": [
    {
     "data": {
      "text/plain": [
       "'Question 7 State a character used to give single line comments in python ?\\nAnswer:- #'"
      ]
     },
     "execution_count": 7,
     "metadata": {},
     "output_type": "execute_result"
    }
   ],
   "source": [
    "\"\"\"Question 7 State a character used to give single line comments in python ?\n",
    "Answer:- #\"\"\""
   ]
  },
  {
   "cell_type": "code",
   "execution_count": 8,
   "id": "fb613f9f-1ed3-4d10-95bd-f6c9793b4df9",
   "metadata": {},
   "outputs": [
    {
     "data": {
      "text/plain": [
       "'Question 8 Mention functions which can help us to find the version of python that we are currently working on ?\\nAnswer :- sys.version '"
      ]
     },
     "execution_count": 8,
     "metadata": {},
     "output_type": "execute_result"
    }
   ],
   "source": [
    "\"\"\"Question 8 Mention functions which can help us to find the version of python that we are currently working on ?\n",
    "Answer :- sys.version \"\"\""
   ]
  },
  {
   "cell_type": "code",
   "execution_count": 9,
   "id": "214590fe-856a-4692-b56c-c07741213c56",
   "metadata": {},
   "outputs": [
    {
     "data": {
      "text/plain": [
       "'Question 9 Python supports the creation of anonymous function at runtime, using a construct called \\nAnswer :- lambda'"
      ]
     },
     "execution_count": 9,
     "metadata": {},
     "output_type": "execute_result"
    }
   ],
   "source": [
    "\"\"\"Question 9 Python supports the creation of anonymous function at runtime, using a construct called \n",
    "Answer :- lambda\"\"\""
   ]
  },
  {
   "cell_type": "code",
   "execution_count": 10,
   "id": "ba185e4b-4da5-4384-a461-1595bad0fbf5",
   "metadata": {},
   "outputs": [
    {
     "data": {
      "text/plain": [
       "'Question 10 What does pip stand for python?\\nAnswer:- Preffered installer program '"
      ]
     },
     "execution_count": 10,
     "metadata": {},
     "output_type": "execute_result"
    }
   ],
   "source": [
    "\"\"\"Question 10 What does pip stand for python?\n",
    "Answer:- Preffered installer program \"\"\""
   ]
  },
  {
   "cell_type": "code",
   "execution_count": 11,
   "id": "4533c673-74ff-4691-b175-b872cb428c12",
   "metadata": {},
   "outputs": [
    {
     "data": {
      "text/plain": [
       "'Question 11 Mention a few built - in function in python \\nAnswer:- print(), sort(), union(), update(), pop(), reverse()'"
      ]
     },
     "execution_count": 11,
     "metadata": {},
     "output_type": "execute_result"
    }
   ],
   "source": [
    "\"\"\"Question 11 Mention a few built - in function in python \n",
    "Answer:- print(), sort(), union(), update(), pop(), reverse()\"\"\""
   ]
  },
  {
   "cell_type": "code",
   "execution_count": 12,
   "id": "d0caf433-9849-4a3d-aacf-5278fd18ff57",
   "metadata": {},
   "outputs": [
    {
     "data": {
      "text/plain": [
       "'Question 12 What is the maximum possible length of an identifier in python \\nAnswer:- 79 characters'"
      ]
     },
     "execution_count": 12,
     "metadata": {},
     "output_type": "execute_result"
    }
   ],
   "source": [
    "\"\"\"Question 12 What is the maximum possible length of an identifier in python \n",
    "Answer:- 79 characters\"\"\""
   ]
  },
  {
   "cell_type": "code",
   "execution_count": 13,
   "id": "5c5c5b4f-ea33-4ee2-8f15-990c1f5cd126",
   "metadata": {},
   "outputs": [
    {
     "data": {
      "text/plain": [
       "'Question 13 what are the benefits of using python\\nAnswer:- there are some benfits to learn python programming :- \\n         1. Data science\\n         2. Web development \\n         3. Game Development  '"
      ]
     },
     "execution_count": 13,
     "metadata": {},
     "output_type": "execute_result"
    }
   ],
   "source": [
    "\"\"\"Question 13 what are the benefits of using python\n",
    "Answer:- there are some benfits to learn python programming :- \n",
    "         1. Data science\n",
    "         2. Web development \n",
    "         3. Game Development  \"\"\""
   ]
  },
  {
   "cell_type": "code",
   "execution_count": 14,
   "id": "32be15b2-3a20-4295-ae95-f6bad56e9332",
   "metadata": {},
   "outputs": [
    {
     "data": {
      "text/plain": [
       "'Question 14 How is memory managed in python \\nAnswer :- Memory management in Python involves a private heap containing all Python objects and data structures'"
      ]
     },
     "execution_count": 14,
     "metadata": {},
     "output_type": "execute_result"
    }
   ],
   "source": [
    "\"\"\"Question 14 How is memory managed in python \n",
    "Answer :- Memory management in Python involves a private heap containing all Python objects and data structures\"\"\""
   ]
  },
  {
   "cell_type": "code",
   "execution_count": 15,
   "id": "91533a5c-ca3a-4809-b6f7-6194ab2b8f02",
   "metadata": {},
   "outputs": [
    {
     "data": {
      "text/plain": [
       "'Question 15 How to install python on windows and set path variables?\\nAnswer:- steps:\\n1. Go to a browser and serach for python.org and download the python .\\n2.  we need to locate where the python is being installed after downloading it. Press WINDOWS key and search for “Python”\\n3. Click on open file location and you will be in a location where Python is installed, Copy the location path from the top by clicking over it\\n4.  we have to add the above-copied path as a variable so that windows can recognize. Search for “Environmental Variables\"\\n5. Now click the “Environmental Variables” button\\n6. There will be two categories namely “User” and “System”, we have to add it in Users, click on New button in the User section. Now, add a Variable Name and Path which we copied previously and click ok. That’s it, done\\n7. Now, after adding the Python to the Environment variable, let’s check if the Python is running anywhere in the windows or not. To do this open CMD and type Python. If the environment variable is set then the Python command will run otherwise not.\\n'"
      ]
     },
     "execution_count": 15,
     "metadata": {},
     "output_type": "execute_result"
    }
   ],
   "source": [
    "\"\"\"Question 15 How to install python on windows and set path variables?\n",
    "Answer:- steps:\n",
    "1. Go to a browser and serach for python.org and download the python .\n",
    "2.  we need to locate where the python is being installed after downloading it. Press WINDOWS key and search for “Python”\n",
    "3. Click on open file location and you will be in a location where Python is installed, Copy the location path from the top by clicking over it\n",
    "4.  we have to add the above-copied path as a variable so that windows can recognize. Search for “Environmental Variables\"\n",
    "5. Now click the “Environmental Variables” button\n",
    "6. There will be two categories namely “User” and “System”, we have to add it in Users, click on New button in the User section. Now, add a Variable Name and Path which we copied previously and click ok. That’s it, done\n",
    "7. Now, after adding the Python to the Environment variable, let’s check if the Python is running anywhere in the windows or not. To do this open CMD and type Python. If the environment variable is set then the Python command will run otherwise not.\n",
    "\"\"\""
   ]
  },
  {
   "cell_type": "code",
   "execution_count": null,
   "id": "559d933e-2509-47a9-b334-bf884d177947",
   "metadata": {},
   "outputs": [],
   "source": [
    "\"\"\"Question 16 Is indentation required in python ?\n",
    "Answer :- \"\"\""
   ]
  }
 ],
 "metadata": {
  "kernelspec": {
   "display_name": "Python 3 (ipykernel)",
   "language": "python",
   "name": "python3"
  },
  "language_info": {
   "codemirror_mode": {
    "name": "ipython",
    "version": 3
   },
   "file_extension": ".py",
   "mimetype": "text/x-python",
   "name": "python",
   "nbconvert_exporter": "python",
   "pygments_lexer": "ipython3",
   "version": "3.10.8"
  }
 },
 "nbformat": 4,
 "nbformat_minor": 5
}
