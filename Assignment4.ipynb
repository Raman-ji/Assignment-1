{
 "cells": [
  {
   "cell_type": "code",
   "execution_count": 2,
   "id": "812d6856-82a5-4403-9094-8b26777fe341",
   "metadata": {},
   "outputs": [
    {
     "name": "stdout",
     "output_type": "stream",
     "text": [
      "[('Jack Kallis', 25534), ('Ricky Ponting', 27483), ('Sachin Tendulkar', 34357), ('Virat Kohli', 24936)]\n"
     ]
    }
   ],
   "source": [
    "\"\"\"Q1. Create a python program to sort the given list of tuples based on integer value using a \n",
    "lambda function. \n",
    "\n",
    "\n",
    "[('Sachin Tendulkar', 34357), ('Ricky Ponting', 27483), ('Jack Kallis', 25534), ('Virat Kohli', 24936)]\"\"\"\n",
    "list_tuple= [('Sachin Tendulkar', 34357), ('Ricky Ponting', 27483), ('Jack Kallis', 25534), ('Virat Kohli', 24936)]\n",
    "temp=0\n",
    "for i in range(0,3):\n",
    "    for j in range(0,2-i):\n",
    "        if(list_tuple[j][1]>=list_tuple[j+1][1]):\n",
    "            temp=list_tuple[j]\n",
    "            list_tuple[j]=list_tuple[j+1]\n",
    "            list_tuple[j+1]=temp\n",
    "print(list_tuple)"
   ]
  },
  {
   "cell_type": "code",
   "execution_count": 3,
   "id": "d732f230-2fac-4aa7-8b63-0a330368c218",
   "metadata": {},
   "outputs": [
    {
     "name": "stdout",
     "output_type": "stream",
     "text": [
      "1\n",
      "4\n",
      "9\n",
      "16\n",
      "25\n",
      "36\n",
      "49\n",
      "64\n",
      "81\n",
      "100\n"
     ]
    }
   ],
   "source": [
    "\"\"\"Q2. Write a Python Program to find the squares of all the numbers in the given list of integers using \n",
    "lambda and map functions.\n",
    "\n",
    "\n",
    "[1, 2, 3, 4, 5, 6, 7, 8, 9, 10]\"\"\"\n",
    "number=[1, 2, 3, 4, 5, 6, 7, 8, 9, 10]\n",
    "sq=lambda x: x**2\n",
    "for i in number:\n",
    "    print(sq(i))\n",
    "    \n",
    "    \n"
   ]
  },
  {
   "cell_type": "code",
   "execution_count": 1,
   "id": "26d89e68-bd37-4e92-8aa6-dfcbeea301f9",
   "metadata": {},
   "outputs": [
    {
     "name": "stdout",
     "output_type": "stream",
     "text": [
      "('1', '2', '3', '4', '5', '6', '7', '8', '9', '10')\n"
     ]
    }
   ],
   "source": [
    "\"\"\"Q3. Write a python program to convert the given list of integers into a tuple of strings. Use map and \n",
    "lambda functions\n",
    "\n",
    "\n",
    "Given String: [1, 2, 3, 4, 5, 6, 7, 8, 9, 10]\n",
    "\n",
    "Expected output: ('1', '2', '3', '4', '5', '6', '7', '8', '9', '10')\"\"\"\n",
    "integers=[1, 2, 3, 4, 5, 6, 7, 8, 9, 10]\n",
    "length=len(integers)\n",
    "integers2=[]\n",
    "for i in range(0,length):\n",
    "    integers2.append(str(integers[i]))\n",
    "t=tuple(integers2)\n",
    "print(t)"
   ]
  },
  {
   "cell_type": "code",
   "execution_count": 8,
   "id": "2eca25be-6d07-4ca5-89ad-5522e65cafd8",
   "metadata": {},
   "outputs": [
    {
     "name": "stdout",
     "output_type": "stream",
     "text": [
      "15511210043330985984000000\n"
     ]
    }
   ],
   "source": [
    "\"\"\"Q4.  Write a python program using reduce function to compute the product of a list containing numbers \n",
    "from 1 to 25.\"\"\"\n",
    "from functools import reduce\n",
    "L=list(range(1,26))\n",
    "L2=reduce(lambda x,y:x*y,L)\n",
    "print(L2)"
   ]
  },
  {
   "cell_type": "code",
   "execution_count": 12,
   "id": "ac6d827a-144f-48b5-b519-9aa1fbaad37b",
   "metadata": {},
   "outputs": [
    {
     "name": "stdout",
     "output_type": "stream",
     "text": [
      "[6, 60, 90, 120]\n"
     ]
    }
   ],
   "source": [
    "\"\"\"Q5. Write a python program to filter the numbers in a given list that are divisible by 2 and 3 using the \n",
    "filter function.\n",
    "\n",
    "\n",
    "[2, 3, 6, 9, 27, 60, 90, 120, 55, 46\"\"\"\n",
    "l=[2, 3, 6, 9, 27, 60, 90, 120, 55, 46]\n",
    "l1=list(filter(lambda x: x if x%2==0 and x%3==0 else None,l))\n",
    "print(l1)"
   ]
  },
  {
   "cell_type": "code",
   "execution_count": 1,
   "id": "18a2924a-d4c1-4822-b34b-6fa3f55a233f",
   "metadata": {},
   "outputs": [
    {
     "name": "stdout",
     "output_type": "stream",
     "text": [
      "None\n",
      "php\n",
      "aba\n",
      "radar\n",
      "level\n"
     ]
    }
   ],
   "source": [
    "\"\"\"Q6. Write a python program to find palindromes in the given list of strings using lambda and filter \n",
    "function.\n",
    "['python', 'php', 'aba', 'radar', 'level']\"\"\"\n",
    "l=['python', 'php', 'aba', 'radar', 'level']\n",
    "palindrone=lambda x:x if x==\"\".join(reversed(x)) else None\n",
    "for i in l:\n",
    "    print(palindrone(i))\n",
    "    \n",
    "palindrone1=  list(filter(lambda x: x if x == \" \".join(reversed(x)) else None, l))"
   ]
  },
  {
   "cell_type": "code",
   "execution_count": null,
   "id": "db985cce-4729-425d-966e-d08ce63465ca",
   "metadata": {},
   "outputs": [],
   "source": []
  }
 ],
 "metadata": {
  "kernelspec": {
   "display_name": "Python 3 (ipykernel)",
   "language": "python",
   "name": "python3"
  },
  "language_info": {
   "codemirror_mode": {
    "name": "ipython",
    "version": 3
   },
   "file_extension": ".py",
   "mimetype": "text/x-python",
   "name": "python",
   "nbconvert_exporter": "python",
   "pygments_lexer": "ipython3",
   "version": "3.10.8"
  }
 },
 "nbformat": 4,
 "nbformat_minor": 5
}
