{
 "cells": [
  {
   "cell_type": "code",
   "execution_count": 1,
   "id": "504587ad-60b6-43e1-806b-7aac0d665a31",
   "metadata": {},
   "outputs": [
    {
     "name": "stdout",
     "output_type": "stream",
     "text": [
      "Program:-\n",
      "\n"
     ]
    },
    {
     "name": "stdin",
     "output_type": "stream",
     "text": [
      "enter your percentage:  90\n"
     ]
    },
    {
     "name": "stdout",
     "output_type": "stream",
     "text": [
      "Grade\n",
      "\n",
      "B\n"
     ]
    }
   ],
   "source": [
    "\"\"\"Question 1 Write a program to accept percentage from the user and display the grade according to tha following criteria:\n",
    "Answer:-\"\"\"\n",
    "print(\"Program:-\\n\")\n",
    "percentage= int(input(\"enter your percentage: \"))\n",
    "if percentage >100:\n",
    "    print(\"not valid\")\n",
    "else:\n",
    "    print(\"Grade\\n\")\n",
    "    if percentage>90 and percentage<=100:\n",
    "        print(\"A\")\n",
    "    elif percentage>80 and percentage<= 90:\n",
    "        print(\"B\")\n",
    "    elif percentage<=80 and percentage>=60:\n",
    "        print(\"C\")\n",
    "    else:\n",
    "        print(\"D\")"
   ]
  },
  {
   "cell_type": "code",
   "execution_count": 2,
   "id": "c16905cf-6793-4f57-8ded-e72dbe4a13ea",
   "metadata": {},
   "outputs": [
    {
     "name": "stdout",
     "output_type": "stream",
     "text": [
      "Program:-\n",
      "\n"
     ]
    },
    {
     "name": "stdin",
     "output_type": "stream",
     "text": [
      "Enter a price of bike: \n",
      " 150000\n"
     ]
    },
    {
     "name": "stdout",
     "output_type": "stream",
     "text": [
      "Tax =  22500.0\n"
     ]
    }
   ],
   "source": [
    "\"\"\"Question 2 Write a program to accept the cost price of a bike and display the road tax to be paid according to the following criteria\n",
    "Answer:- \"\"\"\n",
    "print(\"Program:-\\n\")\n",
    "price = int(input(\"Enter a price of bike: \\n\"))\n",
    "if price>100000:\n",
    "    print(\"Tax = \",0.15*price)\n",
    "elif price<=100000 and price>50000:\n",
    "    print(\"Tax = \", 0.10*price)\n",
    "else:\n",
    "    print(\"Tax = \", 0.05*price)"
   ]
  },
  {
   "cell_type": "code",
   "execution_count": 3,
   "id": "3f9c7dfb-efb7-44a6-b911-fdcfb093ad61",
   "metadata": {},
   "outputs": [
    {
     "name": "stdin",
     "output_type": "stream",
     "text": [
      "Enter a city name: \n",
      " delhi\n"
     ]
    },
    {
     "name": "stdout",
     "output_type": "stream",
     "text": [
      "Red fort\n"
     ]
    }
   ],
   "source": [
    "\"\"\"Question 3 Accept any city from the user and display monuments of that city \n",
    "Answer:- \"\"\"\n",
    "City=input(\"Enter a city name: \\n\")\n",
    "City=City.capitalize()\n",
    "if City==\"Delhi\":\n",
    "    print(\"Red fort\")\n",
    "elif City==\"Agra\":\n",
    "    print(\"Taj Mahal\")\n",
    "elif City==\"Jaipur\":\n",
    "    print(\"Jai Mahal\")\n",
    "else:\n",
    "    print(\"Again enter the city name\")"
   ]
  },
  {
   "cell_type": "code",
   "execution_count": 6,
   "id": "1ef3d876-80ad-4c1a-9686-80e16039c43d",
   "metadata": {},
   "outputs": [
    {
     "name": "stdout",
     "output_type": "stream",
     "text": [
      "Program:-\n",
      "\n"
     ]
    },
    {
     "name": "stdin",
     "output_type": "stream",
     "text": [
      "Enter a number:-\n",
      " 1000\n"
     ]
    },
    {
     "name": "stdout",
     "output_type": "stream",
     "text": [
      "The count of number divisible by 3 befor 10 is :  5\n"
     ]
    }
   ],
   "source": [
    "\"\"\"Question 4 Check how many times a given number can be divided by 3 before it is less than or equal to 10\"\"\"\n",
    "print(\"Program:-\\n\")\n",
    "number= int(input(\"Enter a number:-\\n\"))\n",
    "count =0\n",
    "while True: \n",
    "    if number<=10:\n",
    "        break\n",
    "    number = number/3\n",
    "    count=count+1\n",
    "print(\"The count of number divisible by 3 befor 10 is : \", count)"
   ]
  },
  {
   "cell_type": "code",
   "execution_count": 7,
   "id": "2e5c91dc-8f7b-4b1b-b53d-12e757a9000e",
   "metadata": {},
   "outputs": [
    {
     "name": "stdout",
     "output_type": "stream",
     "text": [
      "Program:-\n",
      "\n",
      "Example:- Let we have to print first 10 natural number but the number should not be greater than 10\n",
      "1\n",
      "2\n",
      "3\n",
      "4\n",
      "5\n",
      "6\n",
      "7\n",
      "8\n",
      "9\n",
      "10\n"
     ]
    }
   ],
   "source": [
    "\"\"\"Question 5 Why and When to use while loop in python give a detailed description with example\n",
    "Answer:- We use a while loop when we have to check the condition \"\"\"\n",
    "print(\"Program:-\\n\")\n",
    "print(\"Example:- Let we have to print first 10 natural number but the number should not be greater than 10\")\n",
    "i=1\n",
    "while i<=10:\n",
    "   print(i)\n",
    "   i=i+1\n"
   ]
  },
  {
   "cell_type": "code",
   "execution_count": 8,
   "id": "20330688-02ee-4f4a-a130-34990e6f7070",
   "metadata": {},
   "outputs": [
    {
     "name": "stdout",
     "output_type": "stream",
     "text": [
      "Pattern1\n",
      "00000\n",
      "\n",
      "11111\n",
      "\n",
      "22222\n",
      "\n",
      "33333\n",
      "\n",
      "44444\n",
      "\n",
      "Pattern 2\n",
      "\n",
      "00000\n",
      "\n",
      "1111\n",
      "\n",
      "222\n",
      "\n",
      "33\n",
      "\n",
      "4\n",
      "\n",
      "Pattern 3\n",
      "\n",
      "0\n",
      "\n",
      "11\n",
      "\n",
      "222\n",
      "\n",
      "3333\n",
      "\n",
      "44444\n",
      "\n"
     ]
    }
   ],
   "source": [
    "\"\"\"Question 6 Use nested while loop to print 3 different pattern\"\"\"\n",
    "print(\"Pattern1\")\n",
    "i=0\n",
    "while i<5:\n",
    "    j=0\n",
    "    while j<5:\n",
    "        print(i, end=\"\")\n",
    "        j=j+1\n",
    "    print(\"\\n\")\n",
    "    i=i+1\n",
    "print(\"Pattern 2\\n\")\n",
    "i=0\n",
    "while i<5:\n",
    "    j=i+1\n",
    "    while j<6:\n",
    "        print(i, end=\"\")\n",
    "        j=j+1\n",
    "    print(\"\\n\")\n",
    "    i=i+1\n",
    "print(\"Pattern 3\\n\")\n",
    "i=0\n",
    "while i<5:\n",
    "    j=0\n",
    "    while j<i+1:\n",
    "        print(i, end=\"\")\n",
    "        j=j+1\n",
    "    print(\"\\n\")\n",
    "    i=i+1\n"
   ]
  },
  {
   "cell_type": "code",
   "execution_count": 9,
   "id": "7654ec16-f8ad-403e-8a8a-4cb3be440ebc",
   "metadata": {},
   "outputs": [
    {
     "name": "stdout",
     "output_type": "stream",
     "text": [
      "Program\n",
      "\n",
      "10\n",
      "9\n",
      "8\n",
      "7\n",
      "6\n",
      "5\n",
      "4\n",
      "3\n",
      "2\n",
      "1\n"
     ]
    }
   ],
   "source": [
    "\"\"\"Question 7 Reverse a while loop to display numbers from 10 to 1\"\"\"\n",
    "print(\"Program\\n\")\n",
    "i=10\n",
    "while i>=1:\n",
    "    print(i)\n",
    "    i=i-1"
   ]
  },
  {
   "cell_type": "code",
   "execution_count": 10,
   "id": "b6a4206e-a4fe-4b2b-b1ec-927710231031",
   "metadata": {},
   "outputs": [
    {
     "name": "stdout",
     "output_type": "stream",
     "text": [
      "Program\n",
      "\n",
      "10\n",
      "9\n",
      "8\n",
      "7\n",
      "6\n",
      "5\n",
      "4\n",
      "3\n",
      "2\n",
      "1\n"
     ]
    }
   ],
   "source": [
    "\"\"\"Question 8 Reverse a while loop to display numbers from 10 to 1\"\"\"\n",
    "print(\"Program\\n\")\n",
    "i=10\n",
    "while i>=1:\n",
    "    print(i)\n",
    "    i=i-1"
   ]
  },
  {
   "cell_type": "code",
   "execution_count": null,
   "id": "c5fab1ec-444d-4b7b-a84f-708156e3da00",
   "metadata": {},
   "outputs": [],
   "source": []
  }
 ],
 "metadata": {
  "kernelspec": {
   "display_name": "Python 3 (ipykernel)",
   "language": "python",
   "name": "python3"
  },
  "language_info": {
   "codemirror_mode": {
    "name": "ipython",
    "version": 3
   },
   "file_extension": ".py",
   "mimetype": "text/x-python",
   "name": "python",
   "nbconvert_exporter": "python",
   "pygments_lexer": "ipython3",
   "version": "3.10.8"
  }
 },
 "nbformat": 4,
 "nbformat_minor": 5
}
