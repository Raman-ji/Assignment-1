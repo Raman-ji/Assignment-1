{
 "cells": [
  {
   "cell_type": "code",
   "execution_count": 1,
   "id": "0950245d-455b-4cab-adab-02d1f9bf7c23",
   "metadata": {},
   "outputs": [
    {
     "name": "stdout",
     "output_type": "stream",
     "text": [
      "Lets make the program \n",
      "\n",
      "[1, 3, 5, 7, 9, 11, 13, 15, 17, 19, 21, 23, 25]\n"
     ]
    }
   ],
   "source": [
    "\"\"\"Question 1 Which keyword is used to create a function? Create a function to return a list of odd numbers in the \n",
    "range of 1 to 25\n",
    "Answer:- def keyword is used to create a function.\"\"\"\n",
    "print(\"Lets make the program \\n\")\n",
    "\n",
    "def Odd_number():\n",
    "    list1=[]\n",
    "    for i in range(1,26):\n",
    "        if i%2!=0:\n",
    "            list1.append(i)\n",
    "    return list1\n",
    "\n",
    "print(Odd_number())\n",
    "        "
   ]
  },
  {
   "cell_type": "code",
   "execution_count": 2,
   "id": "c2247434-f84d-4a56-aa2e-cc45fcbcde9f",
   "metadata": {},
   "outputs": [
    {
     "name": "stdout",
     "output_type": "stream",
     "text": [
      "example of *args\n",
      "\n",
      "(1, 2, 3, 4, 5)\n",
      "\n",
      " Example of **kwargs\n",
      "\n",
      "{'name': 'Raman', 'year': '3rd'}\n"
     ]
    }
   ],
   "source": [
    "\"\"\"Question 2  Why *args and **kwargs is used in some functions? Create a function each for *args and **kwargs \n",
    "to demonstrate their use\n",
    "Answer :- If we passing *args and **kwawrgs as a formal parameter and when we calling those function then that time we can pass any number of variable to a function but there is difference between them the function which uses a *args the return value in type tuple and the function which uses a **kwargs will return the value type dictionary \n",
    "\"\"\"\n",
    "print(\"example of *args\\n\")\n",
    "def fun(*args):\n",
    "    return args\n",
    "arg = fun(1,2,3,4,5)\n",
    "print(arg)\n",
    "print(\"\\n Example of **kwargs\\n\")\n",
    "def fun1(**kwargs):\n",
    "    return kwargs\n",
    "kwargs= fun1(name=\"Raman\", year=\"3rd\")\n",
    "print(kwargs)"
   ]
  },
  {
   "cell_type": "code",
   "execution_count": 3,
   "id": "0f906bd8-b1df-46c8-9f3b-d28c23d52660",
   "metadata": {},
   "outputs": [
    {
     "name": "stdout",
     "output_type": "stream",
     "text": [
      "Program :-\n",
      "\n",
      "2\n",
      "4\n",
      "6\n",
      "8\n",
      "10\n"
     ]
    }
   ],
   "source": [
    "\"\"\"Question 3  What is an iterator in python? Name the method used to initialise the iterator object and the method \n",
    "used for iteration. Use these methods to print the first five elements of the given list [2, 4, 6, 8, 10, 12, 14, \n",
    "16, 18, 20]\n",
    "Answer:- Iterator is a those variable which iterate over iterable objects like list, tuples, dictionary, and sets but integer number are not iterator .The method used to iniialise the iterator object is iter() and the method used for iteration is next()\"\"\"\n",
    "print(\"Program :-\\n\")\n",
    "list2=[2,4,6,8,10,12,14,16,18,20]\n",
    "iterator=iter(list2)\n",
    "for i in range(1,6):\n",
    "    print(next(iterator))"
   ]
  },
  {
   "cell_type": "code",
   "execution_count": 4,
   "id": "cf79c432-7910-47bd-bcc0-3dfc9839ebc6",
   "metadata": {},
   "outputs": [
    {
     "name": "stdout",
     "output_type": "stream",
     "text": [
      "Let we make a program of an even number in first ten natural number\n",
      "\n",
      "2\n",
      "4\n",
      "6\n",
      "8\n",
      "10\n"
     ]
    }
   ],
   "source": [
    "\"\"\"Question 4 What is a generator function in python? Why yield keyword is used? Give an example of a generator \n",
    "function\n",
    "Answer:- Generator function that returns an iterator that produces a sequence of values . generator function is useful when we want to produce a large sequence of values , but we don't want to store all of them in memory at once.Yield are used in generators function . A generator function is defined like a normal function, but whenever it needs to generate a value, it does so with the yield keyword rather than return \"\"\"\n",
    "print(\"Let we make a program of an even number in first ten natural number\\n\")\n",
    "def fun_even():\n",
    "    list4=list(range(1,11))\n",
    "    for i in list4:\n",
    "        if i%2==0:\n",
    "            yield i\n",
    "for i in fun_even():\n",
    "    print(i)"
   ]
  },
  {
   "cell_type": "code",
   "execution_count": 5,
   "id": "f2c1c5cc-2c25-419a-ae22-1b5abaee93bb",
   "metadata": {},
   "outputs": [
    {
     "name": "stdout",
     "output_type": "stream",
     "text": [
      "\n",
      "2\n",
      "3\n",
      "5\n",
      "7\n",
      "11\n",
      "13\n",
      "17\n",
      "19\n"
     ]
    }
   ],
   "source": [
    "\"\"\"Q5. Create a generator function for prime numbers less than 1000. Use the next() method to print the \n",
    "first 20 prime numbers.\n",
    "\"\"\"\n",
    "number1=[]\n",
    "def prime_number():\n",
    "    for i in range(1,20):\n",
    "        sqrt=i**0.5\n",
    "        if(i==1):\n",
    "            print(\"\")\n",
    "        else:\n",
    "            j=2\n",
    "            count=0\n",
    "            while(j<=sqrt):\n",
    "                if(i%j==0):\n",
    "                    count=count+1\n",
    "                j=j+1\n",
    "            if count==0:\n",
    "                yield i\n",
    "for i in prime_number():\n",
    "    number1.append(i)\n",
    "n= iter(number1)\n",
    "d_sqrt=int((20)**0.5)*2\n",
    "for i in range(d_sqrt):\n",
    "    print(next(n))\n",
    "    "
   ]
  },
  {
   "cell_type": "code",
   "execution_count": 6,
   "id": "7e07a4ca-b5ca-408a-b5f1-663ead9b17fd",
   "metadata": {},
   "outputs": [
    {
     "name": "stdout",
     "output_type": "stream",
     "text": [
      "0\n",
      "1\n",
      "1\n",
      "2\n",
      "3\n",
      "5\n",
      "8\n",
      "13\n",
      "21\n",
      "34\n"
     ]
    }
   ],
   "source": [
    "\"\"\"Q6. Write a python program to print the first 10 Fibonacci numbers using a while loop\"\"\"\n",
    "n1=0\n",
    "n2=1\n",
    "i=1\n",
    "while i<=10:\n",
    "    print(n1)\n",
    "    temp=n1+n2\n",
    "    n1=n2\n",
    "    n2=temp\n",
    "    i=i+1"
   ]
  },
  {
   "cell_type": "code",
   "execution_count": 7,
   "id": "6cb41df8-eb72-40ec-8634-785c397bd163",
   "metadata": {},
   "outputs": [
    {
     "name": "stdout",
     "output_type": "stream",
     "text": [
      "['p', 'w', 's', 'k', 'i', 'l', 'l', 's']\n"
     ]
    }
   ],
   "source": [
    "\"\"\"Q7. Write a List Comprehension to iterate through the given string: ‘pwskills’.\n",
    "\n",
    "Expected output: ['p', 'w', 's', 'k', 'i', 'l', 'l', 's']\"\"\"\n",
    "s=\"pwskills\"\n",
    "list=list(iter(s))\n",
    "print(list)"
   ]
  },
  {
   "cell_type": "code",
   "execution_count": 8,
   "id": "51294db1-df33-4788-b6f1-077e9b0da13d",
   "metadata": {},
   "outputs": [
    {
     "name": "stdin",
     "output_type": "stream",
     "text": [
      "Enter a number 13331\n"
     ]
    },
    {
     "name": "stdout",
     "output_type": "stream",
     "text": [
      "Palindrom\n"
     ]
    }
   ],
   "source": [
    "\"\"\"Q8. Write a python program to check whether a given number is Palindrome or not using a while loop\"\"\"\n",
    "num=input(\"Enter a number\")\n",
    "if num==\"\".join(reversed(num)):\n",
    "    print(\"Palindrom\")\n"
   ]
  },
  {
   "cell_type": "code",
   "execution_count": 9,
   "id": "e10dbc80-44c9-48f2-931e-85eb1ab238c4",
   "metadata": {},
   "outputs": [
    {
     "name": "stdout",
     "output_type": "stream",
     "text": [
      "[1, 3, 5, 7, 9, 11, 13, 15, 17, 19, 21, 23, 25, 27, 29, 31, 33, 35, 37, 39, 41, 43, 45, 47, 49, 51, 53, 55, 57, 59, 61, 63, 65, 67, 69, 71, 73, 75, 77, 79, 81, 83, 85, 87, 89, 91, 93, 95, 97, 99]\n"
     ]
    }
   ],
   "source": [
    "\"\"\" Q9. Write a code to print odd numbers from 1 to 100 using list comprehension.\"\"\"\n",
    "odd=[i for i in range(1,101) if i%2!=0 ]\n",
    "print(odd)"
   ]
  },
  {
   "cell_type": "code",
   "execution_count": null,
   "id": "fcd04941-4e29-4e9f-8b85-cd119f4817e5",
   "metadata": {},
   "outputs": [],
   "source": []
  }
 ],
 "metadata": {
  "kernelspec": {
   "display_name": "Python 3 (ipykernel)",
   "language": "python",
   "name": "python3"
  },
  "language_info": {
   "codemirror_mode": {
    "name": "ipython",
    "version": 3
   },
   "file_extension": ".py",
   "mimetype": "text/x-python",
   "name": "python",
   "nbconvert_exporter": "python",
   "pygments_lexer": "ipython3",
   "version": "3.10.8"
  }
 },
 "nbformat": 4,
 "nbformat_minor": 5
}
