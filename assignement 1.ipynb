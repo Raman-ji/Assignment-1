{
 "cells": [
  {
   "cell_type": "code",
   "execution_count": 1,
   "id": "1aa40133-3aec-4cba-8bda-6acb83e4e30e",
   "metadata": {},
   "outputs": [
    {
     "name": "stdout",
     "output_type": "stream",
     "text": [
      "Using for loop we print a first ten natural number\n",
      "1\n",
      "2\n",
      "3\n",
      "4\n",
      "5\n",
      "6\n",
      "7\n",
      "8\n",
      "9\n",
      "10\n",
      "using while loop we print a first ten natural number\n",
      "1\n",
      "2\n",
      "3\n",
      "4\n",
      "5\n",
      "6\n",
      "7\n",
      "8\n",
      "9\n",
      "10\n"
     ]
    }
   ],
   "source": [
    "# Question 1Explain with an example each when to use a for loop and a while loop.\n",
    "# Answer :- we have to use for loop when we don't need to check the condition first and we use while loop when we have to first check the condition but in some problem they both are can be use means in logic of the program we can check the condition or not that are optional then we can use either while loop or for loop\n",
    "# let's take a Example of for loop\n",
    "print(\"Using for loop we print a first ten natural number\")\n",
    "for i in range(1,11):\n",
    "    print(i)\n",
    "    \n",
    "#Now let's take a example of while loop \n",
    "print(\"using while loop we print a first ten natural number\")\n",
    "i=1\n",
    "while i<=10:\n",
    "    print(i)\n",
    "    i=i+1"
   ]
  },
  {
   "cell_type": "code",
   "execution_count": 2,
   "id": "beae876a-b505-4b9a-b32a-899aeaabba18",
   "metadata": {},
   "outputs": [
    {
     "name": "stdout",
     "output_type": "stream",
     "text": [
      "Using for loop\n",
      "number =  1\n",
      "sum=  1  product=  1\n",
      "\n",
      "\n",
      "number =  2\n",
      "sum=  3  product=  2\n",
      "\n",
      "\n",
      "number =  3\n",
      "sum=  6  product=  6\n",
      "\n",
      "\n",
      "number =  4\n",
      "sum=  10  product=  24\n",
      "\n",
      "\n",
      "number =  5\n",
      "sum=  15  product=  120\n",
      "\n",
      "\n",
      "number =  6\n",
      "sum=  21  product=  720\n",
      "\n",
      "\n",
      "number =  7\n",
      "sum=  28  product=  5040\n",
      "\n",
      "\n",
      "number =  8\n",
      "sum=  36  product=  40320\n",
      "\n",
      "\n",
      "number =  9\n",
      "sum=  45  product=  362880\n",
      "\n",
      "\n",
      "number =  10\n",
      "sum=  55  product=  3628800\n",
      "\n",
      "\n",
      "Using while loop\n",
      "number =  1\n",
      "sum=  1  product=  1\n",
      "\n",
      "\n",
      "number =  2\n",
      "sum=  3  product=  2\n",
      "\n",
      "\n",
      "number =  3\n",
      "sum=  6  product=  6\n",
      "\n",
      "\n",
      "number =  4\n",
      "sum=  10  product=  24\n",
      "\n",
      "\n",
      "number =  5\n",
      "sum=  15  product=  120\n",
      "\n",
      "\n",
      "number =  6\n",
      "sum=  21  product=  720\n",
      "\n",
      "\n",
      "number =  7\n",
      "sum=  28  product=  5040\n",
      "\n",
      "\n",
      "number =  8\n",
      "sum=  36  product=  40320\n",
      "\n",
      "\n",
      "number =  9\n",
      "sum=  45  product=  362880\n",
      "\n",
      "\n",
      "number =  10\n",
      "sum=  55  product=  3628800\n",
      "\n",
      "\n"
     ]
    }
   ],
   "source": [
    "#Question 2 Write a Python program to print the sum and product of the first 10 natural numbers using for loop and while loop\n",
    "#Answer\n",
    "print(\"Using for loop\")\n",
    "sum1=0\n",
    "product=1\n",
    "for i in range(1,11):\n",
    "    print(\"number = \",i)\n",
    "    sum1=sum1+i\n",
    "    product=product*i\n",
    "    print(\"sum= \",sum1,\" product= \",product)\n",
    "    print(\"\\n\")\n",
    "    \n",
    "print(\"Using while loop\")\n",
    "sum1=0\n",
    "product=1\n",
    "i=1\n",
    "while i<=10:\n",
    "    print(\"number = \",i)\n",
    "    sum1=sum1+i\n",
    "    product=product*i\n",
    "    print(\"sum= \",sum1,\" product= \",product)\n",
    "    print(\"\\n\")\n",
    "    i=i+1"
   ]
  },
  {
   "cell_type": "code",
   "execution_count": 3,
   "id": "29dc5052-eac0-4653-8308-de4133ef4ed8",
   "metadata": {},
   "outputs": [
    {
     "name": "stdin",
     "output_type": "stream",
     "text": [
      "Enter a number of units 310\n"
     ]
    },
    {
     "name": "stdout",
     "output_type": "stream",
     "text": [
      "Electricity bill =  2250.0\n"
     ]
    }
   ],
   "source": [
    "# Question 3  Create a python program to compute the electricity bill for a household.The per-unit charges in rupees are as follows: For the first 100 units, the user will be charged Rs. 4.5 per \n",
    "# unit, for the next 100 units, the user will be charged Rs. 6 per unit, and for the next 100 units, the user will \n",
    "# be charged Rs. 10 per unit, After 300 units and above the user will be charged Rs. 20 per unit.\n",
    "\n",
    "\n",
    "# You are required to take the units of electricity consumed in a month from the user as input\n",
    "#Your program must pass this test case: when the unit of electricity consumed by the user in a month is \n",
    "310, the total electricity bill should be 2250\n",
    "# Answer\n",
    "unit = int(input(\"Enter a number of units\"))\n",
    "bill=0\n",
    "count=0\n",
    "i=0 \n",
    "charges=[4.5, 6, 10, 20]\n",
    "if(unit<=100):\n",
    "    bill=bill+unit*0    #in question this is not givem that if unit is less than 100 so what charges we have to consider so here we consider it is a 0\n",
    "else :\n",
    "    while i<=3:\n",
    "        if i!=3:\n",
    "            bill=bill+100*charges[i]\n",
    "            unit =unit-100\n",
    "            count=count+1\n",
    "            i=i+1\n",
    "        else :\n",
    "            bill=bill+unit*charges[i]\n",
    "            i=i+1\n",
    "print(\"Electricity bill = \", bill)"
   ]
  },
  {
   "cell_type": "code",
   "execution_count": 4,
   "id": "6f06fe72-6525-48c7-ae80-e9612cdefed8",
   "metadata": {},
   "outputs": [
    {
     "name": "stdout",
     "output_type": "stream",
     "text": [
      "Using for loop\n",
      "[2, 4, 5, 6, 8, 10, 12, 14, 15, 16, 18, 20, 22, 24, 25, 26, 28, 30, 32, 34, 35, 36, 38, 40, 42, 44, 45, 46, 48, 50, 52, 54, 55, 56, 58, 60, 62, 64, 65, 66, 68, 70, 72, 74, 75, 76, 78, 80, 82, 84, 85, 86, 88, 90, 92, 94, 95, 96, 98, 100]\n",
      "\n",
      "\n",
      "using while loop\n",
      "[2, 4, 5, 6, 8, 10, 12, 14, 15, 16, 18, 20, 22, 24, 25, 26, 28, 30, 32, 34, 35, 36, 38, 40, 42, 44, 45, 46, 48, 50, 52, 54, 55, 56, 58, 60, 62, 64, 65, 66, 68, 70, 72, 74, 75, 76, 78, 80, 82, 84, 85, 86, 88, 90, 92, 94, 95, 96, 98, 100]\n"
     ]
    }
   ],
   "source": [
    "#Question 4Create a list of numbers from 1 to 100. Use for loop and while loop to calculate the cube of each \n",
    "# number and if the cube of that number is divisible by 4 or 5 then append that number in a list and print \n",
    "# that list\n",
    "#Answer\n",
    "print(\"Using for loop\")\n",
    "l1=[]\n",
    "for i in range(1,101):\n",
    "    if (i**3)%4==0 or(i**3)%5==0 :\n",
    "        l1.append(i)\n",
    "print(l1)\n",
    "print('\\n')\n",
    "print(\"using while loop\")\n",
    "l2=[]\n",
    "i=1\n",
    "while i<=100:\n",
    "    if (i**3)%4==0 or(i**3)%5==0 :\n",
    "        l2.append(i)\n",
    "    i=i+1\n",
    "print(l2)\n",
    "    "
   ]
  },
  {
   "cell_type": "code",
   "execution_count": 6,
   "id": "1d523220-1821-4602-b8c5-e51db0341ab6",
   "metadata": {},
   "outputs": [
    {
     "name": "stdout",
     "output_type": "stream",
     "text": [
      "number of vowel 12\n"
     ]
    }
   ],
   "source": [
    "# Question 5Write a program to filter count vowels in the below-given string.\n",
    "\n",
    "string = \"I want to become a data scientist\"\n",
    "# Answer\n",
    "string=\"I want to become a data scientist\"\n",
    "l1=['a','e','i','o','u','A','E','I','O','U']\n",
    "add=0\n",
    "for i in l1:\n",
    "    add=add+string.count(i)\n",
    "print(\"number of vowel\", add)"
   ]
  },
  {
   "cell_type": "code",
   "execution_count": null,
   "id": "9e8cb4cc-695f-4edc-bb35-18df42420c71",
   "metadata": {},
   "outputs": [],
   "source": []
  }
 ],
 "metadata": {
  "kernelspec": {
   "display_name": "Python 3 (ipykernel)",
   "language": "python",
   "name": "python3"
  },
  "language_info": {
   "codemirror_mode": {
    "name": "ipython",
    "version": 3
   },
   "file_extension": ".py",
   "mimetype": "text/x-python",
   "name": "python",
   "nbconvert_exporter": "python",
   "pygments_lexer": "ipython3",
   "version": "3.10.8"
  }
 },
 "nbformat": 4,
 "nbformat_minor": 5
}
